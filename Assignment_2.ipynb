{
  "nbformat": 4,
  "nbformat_minor": 0,
  "metadata": {
    "colab": {
      "name": "Assignment 2.ipynb",
      "version": "0.3.2",
      "provenance": [],
      "collapsed_sections": [],
      "include_colab_link": true
    },
    "kernelspec": {
      "name": "python3",
      "display_name": "Python 3"
    }
  },
  "cells": [
    {
      "cell_type": "markdown",
      "metadata": {
        "id": "view-in-github",
        "colab_type": "text"
      },
      "source": [
        "<a href=\"https://colab.research.google.com/github/rabih96/Colab/blob/master/Assignment_2.ipynb\" target=\"_parent\"><img src=\"https://colab.research.google.com/assets/colab-badge.svg\" alt=\"Open In Colab\"/></a>"
      ]
    },
    {
      "metadata": {
        "id": "-xv4B2X_J7f4",
        "colab_type": "text"
      },
      "cell_type": "markdown",
      "source": [
        "#COMP-5361: Discrete Structures and Formal Languages Programming Assignment 2\n",
        "\n",
        "---\n",
        "---"
      ]
    },
    {
      "metadata": {
        "id": "Lapg8yoNKE5P",
        "colab_type": "text"
      },
      "cell_type": "markdown",
      "source": [
        "###1-Introduction\n",
        "___\n",
        "\n",
        "In this assignment we will use the FrozenLake-v0 environment to explore our knowledge of functions! The environment and its backstory are presented below:\n",
        "\n",
        "```\n",
        "Winter is here. You and your friends were tossing around a frisbee at the park when you made a wild throw that left the frisbee out in the middle of the lake. The water is mostly frozen, but there are a few holes where the ice has melted. If you step into one of those holes, you’ll fall into the freezing water. At this time, there’s an international frisbee shortage, so it’s absolutely imperative that you navigate across the lake and retrieve the disc. However, the ice is slippery, so you won’t always move in the direction you intend.The episode ends when you reach the goal or fall in a hole.\n",
        "```\n",
        "\n",
        "We will use matplotlib for the plots and numpy for other small details."
      ]
    },
    {
      "metadata": {
        "id": "K1rHv762Ku7k",
        "colab_type": "text"
      },
      "cell_type": "markdown",
      "source": [
        "###2-Manual Inspection\n",
        "___\n",
        "In this section we are going to implement a fixed set of actions that are required to reach the goal. The path for the following map could be one of many, but we are only using one of the shortest possible:\n",
        "\n",
        "``` \n",
        "SFFF       (S: starting point, safe)\n",
        "FHFH       (F: frozen surface, safe)\n",
        "FFFH       (H: hole, fall to your doom)\n",
        "HFFG       (G: goal, where the frisbee is located)\n",
        "```\n",
        "\n",
        "Shortest path used: ```1,1,2,1,2,2```\n",
        "\n",
        "Where:\n",
        "```\n",
        "  LEFT = 0\n",
        "  DOWN = 1\n",
        "  RIGHT = 2\n",
        "  UP = 3\n",
        "```"
      ]
    },
    {
      "metadata": {
        "id": "JoLmdt3YS4wf",
        "colab_type": "text"
      },
      "cell_type": "markdown",
      "source": [
        "####2.1-Importing our Libraries\n",
        "___\n",
        "First we need to install ```gym``` in our environment and import it, along with ```numpy``` and ```matplotlib```. \n",
        "\n",
        "Gym is a toolkit for developing and comparing reinforcement learning algorithms by creating environments and an agent to manupulate in the environment.\n",
        "\n",
        "As for numpy and matplotlib, they are going to be used to plot the results of each section."
      ]
    },
    {
      "metadata": {
        "id": "IRjpF0aayEZA",
        "colab_type": "code",
        "outputId": "b39f5f96-1b3a-492a-82ef-83e3176beaa1",
        "colab": {
          "base_uri": "https://localhost:8080/",
          "height": 253
        }
      },
      "cell_type": "code",
      "source": [
        "!pip install gym\n",
        "\n",
        "import numpy as np\n",
        "import matplotlib.pyplot as plt\n",
        "import matplotlib.patches as mpatches\n",
        "import gym"
      ],
      "execution_count": 41,
      "outputs": [
        {
          "output_type": "stream",
          "text": [
            "Requirement already satisfied: gym in /usr/local/lib/python3.6/dist-packages (0.10.11)\n",
            "Requirement already satisfied: scipy in /usr/local/lib/python3.6/dist-packages (from gym) (1.1.0)\n",
            "Requirement already satisfied: numpy>=1.10.4 in /usr/local/lib/python3.6/dist-packages (from gym) (1.14.6)\n",
            "Requirement already satisfied: requests>=2.0 in /usr/local/lib/python3.6/dist-packages (from gym) (2.18.4)\n",
            "Requirement already satisfied: six in /usr/local/lib/python3.6/dist-packages (from gym) (1.11.0)\n",
            "Requirement already satisfied: pyglet>=1.2.0 in /usr/local/lib/python3.6/dist-packages (from gym) (1.3.2)\n",
            "Requirement already satisfied: idna<2.7,>=2.5 in /usr/local/lib/python3.6/dist-packages (from requests>=2.0->gym) (2.6)\n",
            "Requirement already satisfied: certifi>=2017.4.17 in /usr/local/lib/python3.6/dist-packages (from requests>=2.0->gym) (2019.3.9)\n",
            "Requirement already satisfied: chardet<3.1.0,>=3.0.2 in /usr/local/lib/python3.6/dist-packages (from requests>=2.0->gym) (3.0.4)\n",
            "Requirement already satisfied: urllib3<1.23,>=1.21.1 in /usr/local/lib/python3.6/dist-packages (from requests>=2.0->gym) (1.22)\n",
            "Requirement already satisfied: future in /usr/local/lib/python3.6/dist-packages (from pyglet>=1.2.0->gym) (0.16.0)\n"
          ],
          "name": "stdout"
        }
      ]
    },
    {
      "metadata": {
        "id": "nso_jaRfNWAg",
        "colab_type": "text"
      },
      "cell_type": "markdown",
      "source": [
        "####2.2-Graph Function\n",
        "___\n",
        "After we have imported the required libraries, we now need to create a function that displays the bar graph which is going to be used in upcoming sections.\n",
        "\n",
        "This function takes in the values that are going to be plotted, along with the title for it. "
      ]
    },
    {
      "metadata": {
        "id": "jO_ag3Zea5EK",
        "colab_type": "code",
        "colab": {}
      },
      "cell_type": "code",
      "source": [
        "def drawBarGraph(values, title):\n",
        "  \n",
        "  fig, ax = plt.subplots()\n",
        "  ind = np.arange(0, 2)\n",
        "  \n",
        "  #setup legends \n",
        "  red_patch = mpatches.Patch(color='red', label='Sucess %')\n",
        "  blue_patch = mpatches.Patch(color='blue', label='Failure %')\n",
        "  plt.legend(handles=[red_patch,blue_patch])\n",
        "\n",
        "  #setup graph bars\n",
        "  success, failure = plt.bar(ind, [0,0])\n",
        "  ax.set_xticks(ind)\n",
        "  ax.set_xticklabels(['Success', 'Failure'])\n",
        "  ax.set_ylim([0, 100])\n",
        "  ax.set_ylabel('Percent')\n",
        "  ax.set_xlabel('Success/Failure Percentage')\n",
        "  ax.set_title(title)\n",
        "\n",
        "  #set bars color and height\n",
        "  success.set_facecolor('r')\n",
        "  failure.set_facecolor('b')\n",
        "  success.set_height(values[0])\n",
        "  failure.set_height(values[1])\n",
        "\n",
        "  #add % values text to each bar for better presentation\n",
        "  for i, v in enumerate(values):\n",
        "    ax.text(i, v/values[i], values[i])\n",
        "\n",
        "  plt.show()"
      ],
      "execution_count": 0,
      "outputs": []
    },
    {
      "metadata": {
        "id": "SVNCSVq5PBLJ",
        "colab_type": "text"
      },
      "cell_type": "markdown",
      "source": [
        "####2.3-Environment \n",
        "___\n",
        "Now we need to setup our environment which we are going to input our path. This environment will loop 1000 times to report the percentage of the times we successfully ended up with the frisbee and the times we failed, using the manual inspection method."
      ]
    },
    {
      "metadata": {
        "id": "8dLw0ekcysqo",
        "colab_type": "code",
        "outputId": "be3d7a16-c29a-4294-db62-375af9093f13",
        "colab": {
          "base_uri": "https://localhost:8080/",
          "height": 376
        }
      },
      "cell_type": "code",
      "source": [
        "#environment init\n",
        "env = gym.make('FrozenLake-v0')\n",
        "\n",
        "#the fixed steps as described above\n",
        "action_steps = [1,1,2,1,2,2]\n",
        "\n",
        "#number of episodes to loop\n",
        "episodes = range(1000)\n",
        "\n",
        "#this number increaments each time we get to the goal we want\n",
        "success = 0\n",
        "\n",
        "#loop through the episodes\n",
        "for episode in episodes:\n",
        "  \n",
        "  #bool used to check whether the episode fell into a hole\n",
        "  terminated = False\n",
        "  \n",
        "  #reset our environment to try again from start\n",
        "  state = env.reset()\n",
        "  \n",
        "  #monitor the index of the action_steps list\n",
        "  step = 0\n",
        "\n",
        "  #check whether we failed or not\n",
        "  while not terminated:\n",
        "\n",
        "    #action should be a number from 0 to 3 to give direction as described above\n",
        "    action = action_steps[step]\n",
        "    \n",
        "    #increment the index\n",
        "    step += 1\n",
        "\n",
        "    #apply the action taken from the array and get the response of what happened\n",
        "    next_state, reward, terminated, info = env.step(action)\n",
        "  \n",
        "    #update the state for the upcoming try \n",
        "    state = next_state\n",
        "    \n",
        "    #check whether we reached the end of our action set to terminate the loop as a fail\n",
        "    if step == len(action_steps):\n",
        "      terminated = True\n",
        "\n",
        "    # if its terminated and the reward is 1 (success) then increment the number of success by 1\n",
        "    if terminated and reward == 1.0:\n",
        "      success += 1\n",
        "\n",
        "#calculate the percentage of success/failrues\n",
        "success_rate = success / 10\n",
        "failure_rate = 100-success_rate\n",
        "values = [success_rate, failure_rate]\n",
        "\n",
        "#display the results above in form of a graph along the respective title\n",
        "drawBarGraph(values, 'Percentage Of Success/Failure Of Fixed Set Of Action')"
      ],
      "execution_count": 43,
      "outputs": [
        {
          "output_type": "display_data",
          "data": {
            "image/png": "[encoded data removed]",
            "text/plain": [
              "<Figure size 576x396 with 1 Axes>"
            ]
          },
          "metadata": {
            "tags": []
          }
        }
      ]
    },
    {
      "metadata": {
        "id": "_PqyTpWfSM9Y",
        "colab_type": "text"
      },
      "cell_type": "markdown",
      "source": [
        "###3-Define a Function\n",
        "___\n",
        "\n",
        "In this part we aim to replace the fixed list of actions with a dynamic function. We are going to define a simple function that would tell you the action we need to take based on our position.\n",
        "```\n",
        "f(position) = best action ∀position ∈ Grid\n",
        "```\n"
      ]
    },
    {
      "metadata": {
        "id": "_wE5NYMwpNdY",
        "colab_type": "text"
      },
      "cell_type": "markdown",
      "source": [
        "####3.1-Defining f(position) \n",
        "___\n",
        "\n",
        "This function will be a surjective one, having a direction return as integer for any position parsed to the function. The function will recieve the position from the curent state and accordingly it will return the direction that we should move to.\n",
        "\n",
        "We will initialize three lists, each one dedicated for each direction with the elements being the position we are in. So each list will have the elements we are going to return the respective direction."
      ]
    },
    {
      "metadata": {
        "id": "ahEK8Ndlmd0q",
        "colab_type": "code",
        "colab": {}
      },
      "cell_type": "code",
      "source": [
        "def f(position):\n",
        "  \n",
        "  #the lists holding the positions respectively to return the directions required.\n",
        "  LEFT = [3]\n",
        "  DOWN = [0,2,4,6,9,10]\n",
        "  RIGHT = [1,8,13,14]\n",
        "  \n",
        "  #detect the parsed position is in which list to return the integer representing the direction.\n",
        "  if position in LEFT:\n",
        "    return 0\n",
        "  elif position in DOWN:\n",
        "    return 1\n",
        "  elif position in RIGHT:\n",
        "    return 2"
      ],
      "execution_count": 0,
      "outputs": []
    },
    {
      "metadata": {
        "id": "B6g3mpU9n8lx",
        "colab_type": "text"
      },
      "cell_type": "markdown",
      "source": [
        "####3.2-Environment\n",
        "----\n",
        "After the function f(position) has been defined we are going to setup our environment once again with few modification to be able to correlate with the return values from the defined function. "
      ]
    },
    {
      "metadata": {
        "id": "nqjoRZXxeacE",
        "colab_type": "code",
        "outputId": "60cbdefb-4cf4-46ba-b8a8-54d754255ca9",
        "colab": {
          "base_uri": "https://localhost:8080/",
          "height": 376
        }
      },
      "cell_type": "code",
      "source": [
        "#initialize the environment\n",
        "env = gym.make('FrozenLake-v0')\n",
        "\n",
        "#initialize the variables\n",
        "episodes = range(1000)\n",
        "success = 0\n",
        "\n",
        "#loop the episodes\n",
        "for episode in episodes:\n",
        "\n",
        "  terminated = False\n",
        "  state = env.reset()\n",
        "\n",
        "  while not terminated:\n",
        "    \n",
        "    #using f(posiiton) to determine the action that should be done\n",
        "    action = f(state)\n",
        "    \n",
        "    #apply the action and retrive the outcome\n",
        "    next_state, reward, terminated, info = env.step(action)\n",
        "\n",
        "    state = next_state\n",
        "    \n",
        "    #add the success to plot after the episodes are done\n",
        "    if terminated and reward == 1.0:\n",
        "      success += 1\n",
        "\n",
        "success_rate = success / 10\n",
        "failure_rate = 100-success_rate\n",
        "values = [success_rate, failure_rate]\n",
        "\n",
        "#draw the graph\n",
        "drawBarGraph(values, 'Percentage Of Success/Failure Of The Dynamic Function f(position)')"
      ],
      "execution_count": 45,
      "outputs": [
        {
          "output_type": "display_data",
          "data": {
            "image/png": "[encoded data removed]",
            "text/plain": [
              "<Figure size 576x396 with 1 Axes>"
            ]
          },
          "metadata": {
            "tags": []
          }
        }
      ]
    },
    {
      "metadata": {
        "id": "KcozLYivpxIx",
        "colab_type": "text"
      },
      "cell_type": "markdown",
      "source": [
        "####3.3-Conclusion & Comparision\n",
        "----\n",
        "As we can see, the percentsge of success using the dynamic function f(position) outweighed the manual inspection method by a long run. The increase is about up to 130% in success rate, proving a dynamic function is way more effective since it provides a new direction on each step based on our position."
      ]
    },
    {
      "metadata": {
        "id": "oZzT4N0Op8L_",
        "colab_type": "text"
      },
      "cell_type": "markdown",
      "source": [
        "###4-Extended List\n",
        "____\n",
        "In this part we going to define a function called h(position) which is similar to the manual inspection method, but this function will return a new set of actions depending on our current location. The function will be as follows:\n",
        "\n",
        "\n",
        "```\n",
        "h(position) = one minimal list of actions to the frisbee ∀position ∈ Grid\n",
        "```\n",
        "\n"
      ]
    },
    {
      "metadata": {
        "id": "QD51n4FIqCUa",
        "colab_type": "text"
      },
      "cell_type": "markdown",
      "source": [
        "####4.1-Defining h(position)\n",
        "____\n",
        "This function will recieive the current position in the environment and based on its state it will return a small set of actions to try and see if it reaches the goal. The position will only be one of the \"slippery\" positions, since \"holes\" present that we have failed the current episode. The slippery positions are ```0,1,2,3,4,6,8,9,10,13,14```, for each position we will return a small list that represent the shortest path which are going to be executed in hopes to reach our goal."
      ]
    },
    {
      "metadata": {
        "id": "U_hq9mbciSYM",
        "colab_type": "code",
        "colab": {}
      },
      "cell_type": "code",
      "source": [
        "def h(position):\n",
        "  if position == 0:\n",
        "    return [1,1,2,1,2,2]\n",
        "  elif position == 1:\n",
        "    return [2,1,1,1,2]\n",
        "  elif position == 2:\n",
        "    return [1,1,1,2]\n",
        "  elif position == 3:\n",
        "    return [0,1,1,1,2]\n",
        "  elif position == 4:\n",
        "    return [1,2,1,2,2]\n",
        "  elif position == 6:\n",
        "    return [1,1,2]\n",
        "  elif position == 8:\n",
        "    return [2,1,2,2]\n",
        "  elif position == 9:\n",
        "    return [1,2,2]\n",
        "  elif position == 10:\n",
        "    return [1,2]\n",
        "  elif position == 13:\n",
        "    return [2,2]\n",
        "  elif position == 14:\n",
        "    return [2]"
      ],
      "execution_count": 0,
      "outputs": []
    },
    {
      "metadata": {
        "id": "HBZe_SXyqInH",
        "colab_type": "text"
      },
      "cell_type": "markdown",
      "source": [
        "####4.2-Environment\n",
        "____\n",
        "After the function h(position) has been defined we are going to setup our environment once again with few modification to be able to correlate with the return values from the defined function. "
      ]
    },
    {
      "metadata": {
        "id": "lvpLErQNghns",
        "colab_type": "code",
        "outputId": "a73be7f7-cc7b-40e7-a610-03aa567d157b",
        "colab": {
          "base_uri": "https://localhost:8080/",
          "height": 376
        }
      },
      "cell_type": "code",
      "source": [
        "env = gym.make('FrozenLake-v0')\n",
        "\n",
        "action_steps = list(h(0))\n",
        "episodes = range(1000)\n",
        "success = 0\n",
        "\n",
        "for episode in episodes:\n",
        "\n",
        "  terminated = False\n",
        "  state = env.reset()\n",
        "  step = 0\n",
        "\n",
        "  while not terminated:\n",
        "\n",
        "    action = action_steps[step]\n",
        "    \n",
        "    step += 1\n",
        "\n",
        "    next_state, reward, terminated, info = env.step(action)\n",
        "\n",
        "    state = next_state\n",
        "    \n",
        "    if step == len(action_steps) and not terminated:\n",
        "      action_steps = list(h(state))\n",
        "      step = 0\n",
        "\n",
        "    if terminated and reward == 1.0:\n",
        "      success += 1\n",
        "\n",
        "success_rate = success / 10\n",
        "failure_rate = 100-success_rate\n",
        "values = [success_rate, failure_rate]\n",
        "\n",
        "drawBarGraph(values, 'Percentage Of Success/Failure Of The Dynamic Function h(position)')"
      ],
      "execution_count": 47,
      "outputs": [
        {
          "output_type": "display_data",
          "data": {
            "image/png": "[encoded data removed]",
            "text/plain": [
              "<Figure size 576x396 with 1 Axes>"
            ]
          },
          "metadata": {
            "tags": []
          }
        }
      ]
    },
    {
      "metadata": {
        "id": "V37cC5qRqMcx",
        "colab_type": "text"
      },
      "cell_type": "markdown",
      "source": [
        "####4.3-Conclusion & Comparision\n",
        "____\n",
        "After many successful execution we can conclude that the dynamic function f(position) got a better success rate than h(position)."
      ]
    },
    {
      "metadata": {
        "id": "z5qHp-lpqTJu",
        "colab_type": "text"
      },
      "cell_type": "markdown",
      "source": [
        "###5-Piecewise Function\n",
        "____\n",
        "\n",
        "In this part we will try to define another function for navigation in this environment that takes advantage of previous approaches. We will define a Piecewise function k as follows:\n",
        "\n",
        "\n",
        "```\n",
        "k(position, α) = h(position) with probability 1 − α\n",
        "               = f(position) with probability α \n",
        "```\n",
        "\n",
        "\n"
      ]
    },
    {
      "metadata": {
        "id": "35yecdefqYo3",
        "colab_type": "text"
      },
      "cell_type": "markdown",
      "source": [
        "####5.1-Defining k(position, α)\n",
        "____\n",
        "This function is based on probability factor α, which is going to be deduced using the random library. A random integer number will be picked between 0 and 100 and then compared to α (which will be multiplied by 100). Based on the reults we will either go with f(position) or h(position)."
      ]
    },
    {
      "metadata": {
        "id": "PEtfun_bmgqE",
        "colab_type": "code",
        "colab": {}
      },
      "cell_type": "code",
      "source": [
        "import random\n",
        "\n",
        "def k(position, α):\n",
        "  if random.randint(0,100) <= α*100:\n",
        "    return f(position)\n",
        "  else:\n",
        "    return h(position)"
      ],
      "execution_count": 0,
      "outputs": []
    },
    {
      "metadata": {
        "id": "YzEZd5PAqkGi",
        "colab_type": "text"
      },
      "cell_type": "markdown",
      "source": [
        "####5.2-Environment\n",
        "____\n",
        "After the function k(position, α) has been defined we are going to setup our environment once again with few modification to be able to correlate with the return values from the defined function. "
      ]
    },
    {
      "metadata": {
        "id": "_kdyDGhgmthZ",
        "colab_type": "code",
        "outputId": "d2fdd288-d452-4649-a95c-d230162093cb",
        "colab": {
          "base_uri": "https://localhost:8080/",
          "height": 361
        }
      },
      "cell_type": "code",
      "source": [
        "env = gym.make('FrozenLake-v0')\n",
        "\n",
        "#get list with all values of α that we going to iterate from 0.0 to 1.0 with 0.1 increament including 1.0 \n",
        "alpha_values = np.arange(0, 1.1, 0.1)\n",
        "\n",
        "#initialize list of 11 elements to store the % of success for each alpha value\n",
        "success_values = [None] * 11\n",
        "\n",
        "#iterrate for each alpha value, whilke having the index to know in which position we are according to alpha\n",
        "for index, alpha in enumerate(alpha_values, start=0):\n",
        "\n",
        "  episodes = range(1000)\n",
        "  success = 0\n",
        "\n",
        "  for episode in episodes:\n",
        "\n",
        "    terminated = False\n",
        "    state = env.reset()\n",
        "\n",
        "    while not terminated:\n",
        "      \n",
        "      action_probablity = k(state, alpha)\n",
        "      \n",
        "      #check if we need to go with h(position)\n",
        "      if isinstance(action_probablity, list):\n",
        "        \n",
        "        step = 0\n",
        "        \n",
        "        while not terminated:\n",
        "\n",
        "          action = action_probablity[step]\n",
        "\n",
        "          step += 1\n",
        "\n",
        "          next_state, reward, terminated, info = env.step(action)\n",
        "\n",
        "          state = next_state\n",
        "\n",
        "          if step == len(action_probablity):\n",
        "            terminated = True\n",
        "\n",
        "          if terminated and reward == 1.0:\n",
        "            success += 1\n",
        "      \n",
        "      #since its not a list means we are going to perform an action based on f(position)\n",
        "      else:\n",
        "\n",
        "        next_state, reward, terminated, info = env.step(action_probablity)\n",
        "\n",
        "        state = next_state\n",
        "\n",
        "        if terminated and reward == 1.0:\n",
        "          success += 1\n",
        "  \n",
        "  #add the success value for the respective value of alpha in its proper position \n",
        "  success_values[index] = success*100/len(episodes)\n",
        "\n",
        "#plot the graph showcasing the success percentage for each value of alpha\n",
        "plt.plot(alpha_values, success_values)\n",
        "plt.ylabel('Percentage Success')\n",
        "plt.xlabel('α Values')\n",
        "plt.show()"
      ],
      "execution_count": 49,
      "outputs": [
        {
          "output_type": "display_data",
          "data": {
            "image/png": "[encoded data removed]",
            "text/plain": [
              "<Figure size 576x396 with 1 Axes>"
            ]
          },
          "metadata": {
            "tags": []
          }
        }
      ]
    },
    {
      "metadata": {
        "id": "yCI4wVviqoLP",
        "colab_type": "text"
      },
      "cell_type": "markdown",
      "source": [
        "####5.3-Conclusion & Comparision\n",
        "____\n",
        "As we can see the success percentage is steady at first until it reaches the α values between 0.6-0.8, from then the percentage success increases significantly to reach almost 5x the success rate. This implies that the combination of both functions isnt that fruiting, but f(position) is the best dynamic function with highest percentage of success. Since for α = 1, k(position, α) is basically only calling f(position)."
      ]
    }
  ]
}